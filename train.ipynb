{
 "cells": [
  {
   "cell_type": "code",
   "execution_count": null,
   "id": "147f62ac",
   "metadata": {},
   "outputs": [],
   "source": [
    "import cv2\n",
    "import mediapipe as mp\n",
    "import numpy as np\n",
    "import os \n",
    "import pickle\n",
    "from sklearn.metrics import confusion_matrix, ConfusionMatrixDisplay"
   ]
  },
  {
   "cell_type": "code",
   "execution_count": null,
   "id": "ff8e76c2",
   "metadata": {},
   "outputs": [],
   "source": [
    "mp_drawing = mp.solutions.drawing_utils\n",
    "mp_drawing_styles = mp.solutions.drawing_styles\n",
    "mp_hands = mp.solutions.hands"
   ]
  },
  {
   "cell_type": "code",
   "execution_count": null,
   "id": "b70444c2",
   "metadata": {},
   "outputs": [],
   "source": [
    "hands = mp_hands.Hands(static_image_mode=False, max_num_hands=2, min_detection_confidence=0.5, min_tracking_confidence=0.5)\n"
   ]
  },
  {
   "cell_type": "code",
   "execution_count": null,
   "id": "dcb92b04",
   "metadata": {},
   "outputs": [],
   "source": [
    "actions = list(range(11))\n",
    "actions = [str(action) for action in actions]\n",
    "actions"
   ]
  },
  {
   "cell_type": "code",
   "execution_count": null,
   "id": "835690a0",
   "metadata": {},
   "outputs": [],
   "source": [
    "from sklearn.ensemble import RandomForestClassifier\n",
    "from sklearn.model_selection import train_test_split\n",
    "from sklearn.metrics import accuracy_score"
   ]
  },
  {
   "cell_type": "code",
   "execution_count": null,
   "id": "9364a51c",
   "metadata": {},
   "outputs": [],
   "source": [
    "data_dict = pickle.load(open('./data.pickle', 'rb'))"
   ]
  },
  {
   "cell_type": "code",
   "execution_count": null,
   "id": "ccc33050",
   "metadata": {},
   "outputs": [],
   "source": [
    "data = np.asarray(data_dict['data'])\n",
    "labels = np.asarray(data_dict['labels'])"
   ]
  },
  {
   "cell_type": "code",
   "execution_count": null,
   "id": "4fab1ba8",
   "metadata": {},
   "outputs": [],
   "source": [
    "aug_data = np.load('./aug_data.npy')\n",
    "aug_labels = np.load('./aug_labels.npy')"
   ]
  },
  {
   "cell_type": "code",
   "execution_count": null,
   "id": "958d243f",
   "metadata": {},
   "outputs": [],
   "source": [
    "aug_data_reshape = aug_data.reshape(-1, aug_data.shape[-1])"
   ]
  },
  {
   "cell_type": "code",
   "execution_count": null,
   "id": "ad10e1fd",
   "metadata": {},
   "outputs": [],
   "source": [
    "aug_labels_reshape = np.repeat(aug_labels, 30)"
   ]
  },
  {
   "cell_type": "code",
   "execution_count": null,
   "id": "c758da87",
   "metadata": {},
   "outputs": [],
   "source": [
    "print(\"Shape of data:\", data.shape)\n",
    "print(\"Shape of aug_data_reshape:\", aug_data_reshape.shape)\n",
    "print(\"Shape of labels:\", labels.shape)\n",
    "print(\"Shape of aug_lablels_reshape:\", aug_labels_reshape.shape)"
   ]
  },
  {
   "cell_type": "code",
   "execution_count": null,
   "id": "0ceaed67",
   "metadata": {},
   "outputs": [],
   "source": [
    "combined_data = np.concatenate((data, aug_data_reshape), axis=0)\n",
    "combined_labels = np.concatenate((labels, aug_labels_reshape), axis=0)"
   ]
  },
  {
   "cell_type": "code",
   "execution_count": null,
   "id": "72540634",
   "metadata": {},
   "outputs": [],
   "source": [
    "x_train, x_test, y_train, y_test = train_test_split(combined_data, combined_labels, test_size=0.2, shuffle=True, stratify=combined_labels)\n",
    "\n",
    "model = RandomForestClassifier()\n",
    "\n",
    "model.fit(x_train, y_train)\n",
    "\n",
    "y_predict = model.predict(x_test)\n",
    "\n",
    "score = accuracy_score(y_predict, y_test)\n",
    "\n",
    "print('{}% of samples were classified correctly !'.format(score * 100))\n",
    "\n",
    "f = open('final_model.p', 'wb')\n",
    "pickle.dump({'model_3': model}, f)\n",
    "f.close()"
   ]
  }
 ],
 "metadata": {
  "kernelspec": {
   "display_name": "Python 3 (ipykernel)",
   "language": "python",
   "name": "python3"
  },
  "language_info": {
   "codemirror_mode": {
    "name": "ipython",
    "version": 3
   },
   "file_extension": ".py",
   "mimetype": "text/x-python",
   "name": "python",
   "nbconvert_exporter": "python",
   "pygments_lexer": "ipython3",
   "version": "3.9.19"
  }
 },
 "nbformat": 4,
 "nbformat_minor": 5
}
